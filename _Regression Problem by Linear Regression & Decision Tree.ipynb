{
 "cells": [
  {
   "cell_type": "markdown",
   "id": "ce522dae",
   "metadata": {},
   "source": [
    "## import the libraries"
   ]
  },
  {
   "cell_type": "code",
   "execution_count": 1,
   "id": "8a8d780b",
   "metadata": {},
   "outputs": [],
   "source": [
    "import numpy as np\n",
    "import pandas as pd \n",
    "import matplotlib.pyplot as plt\n",
    "import seaborn as sns\n",
    "import sklearn\n",
    "import math"
   ]
  },
  {
   "cell_type": "markdown",
   "id": "b2a19951",
   "metadata": {},
   "source": [
    "## Data Preprocessing"
   ]
  },
  {
   "cell_type": "code",
   "execution_count": 2,
   "id": "8bf1dda2",
   "metadata": {
    "collapsed": true
   },
   "outputs": [
    {
     "data": {
      "text/html": [
       "<div>\n",
       "<style scoped>\n",
       "    .dataframe tbody tr th:only-of-type {\n",
       "        vertical-align: middle;\n",
       "    }\n",
       "\n",
       "    .dataframe tbody tr th {\n",
       "        vertical-align: top;\n",
       "    }\n",
       "\n",
       "    .dataframe thead th {\n",
       "        text-align: right;\n",
       "    }\n",
       "</style>\n",
       "<table border=\"1\" class=\"dataframe\">\n",
       "  <thead>\n",
       "    <tr style=\"text-align: right;\">\n",
       "      <th></th>\n",
       "      <th>Id</th>\n",
       "      <th>MSSubClass</th>\n",
       "      <th>LotArea</th>\n",
       "      <th>YearBuilt</th>\n",
       "      <th>GarageYrBlt</th>\n",
       "      <th>GarageArea</th>\n",
       "      <th>YrSold</th>\n",
       "      <th>SalePrice</th>\n",
       "    </tr>\n",
       "  </thead>\n",
       "  <tbody>\n",
       "    <tr>\n",
       "      <th>0</th>\n",
       "      <td>1</td>\n",
       "      <td>60</td>\n",
       "      <td>8450</td>\n",
       "      <td>2003</td>\n",
       "      <td>2003.0</td>\n",
       "      <td>548</td>\n",
       "      <td>2008</td>\n",
       "      <td>208500</td>\n",
       "    </tr>\n",
       "    <tr>\n",
       "      <th>1</th>\n",
       "      <td>2</td>\n",
       "      <td>20</td>\n",
       "      <td>9600</td>\n",
       "      <td>1976</td>\n",
       "      <td>1976.0</td>\n",
       "      <td>460</td>\n",
       "      <td>2007</td>\n",
       "      <td>181500</td>\n",
       "    </tr>\n",
       "    <tr>\n",
       "      <th>2</th>\n",
       "      <td>3</td>\n",
       "      <td>60</td>\n",
       "      <td>11250</td>\n",
       "      <td>2001</td>\n",
       "      <td>2001.0</td>\n",
       "      <td>608</td>\n",
       "      <td>2008</td>\n",
       "      <td>223500</td>\n",
       "    </tr>\n",
       "    <tr>\n",
       "      <th>3</th>\n",
       "      <td>4</td>\n",
       "      <td>70</td>\n",
       "      <td>9550</td>\n",
       "      <td>1915</td>\n",
       "      <td>1998.0</td>\n",
       "      <td>642</td>\n",
       "      <td>2006</td>\n",
       "      <td>140000</td>\n",
       "    </tr>\n",
       "    <tr>\n",
       "      <th>4</th>\n",
       "      <td>5</td>\n",
       "      <td>60</td>\n",
       "      <td>14260</td>\n",
       "      <td>2000</td>\n",
       "      <td>2000.0</td>\n",
       "      <td>836</td>\n",
       "      <td>2008</td>\n",
       "      <td>250000</td>\n",
       "    </tr>\n",
       "    <tr>\n",
       "      <th>...</th>\n",
       "      <td>...</td>\n",
       "      <td>...</td>\n",
       "      <td>...</td>\n",
       "      <td>...</td>\n",
       "      <td>...</td>\n",
       "      <td>...</td>\n",
       "      <td>...</td>\n",
       "      <td>...</td>\n",
       "    </tr>\n",
       "    <tr>\n",
       "      <th>694</th>\n",
       "      <td>695</td>\n",
       "      <td>50</td>\n",
       "      <td>6120</td>\n",
       "      <td>1936</td>\n",
       "      <td>1995.0</td>\n",
       "      <td>576</td>\n",
       "      <td>2009</td>\n",
       "      <td>141500</td>\n",
       "    </tr>\n",
       "    <tr>\n",
       "      <th>695</th>\n",
       "      <td>696</td>\n",
       "      <td>20</td>\n",
       "      <td>13811</td>\n",
       "      <td>1987</td>\n",
       "      <td>1987.0</td>\n",
       "      <td>551</td>\n",
       "      <td>2006</td>\n",
       "      <td>176000</td>\n",
       "    </tr>\n",
       "    <tr>\n",
       "      <th>696</th>\n",
       "      <td>697</td>\n",
       "      <td>30</td>\n",
       "      <td>6000</td>\n",
       "      <td>1921</td>\n",
       "      <td>1921.0</td>\n",
       "      <td>205</td>\n",
       "      <td>2006</td>\n",
       "      <td>89000</td>\n",
       "    </tr>\n",
       "    <tr>\n",
       "      <th>697</th>\n",
       "      <td>698</td>\n",
       "      <td>20</td>\n",
       "      <td>6420</td>\n",
       "      <td>1952</td>\n",
       "      <td>1952.0</td>\n",
       "      <td>308</td>\n",
       "      <td>2006</td>\n",
       "      <td>123500</td>\n",
       "    </tr>\n",
       "    <tr>\n",
       "      <th>698</th>\n",
       "      <td>699</td>\n",
       "      <td>20</td>\n",
       "      <td>8450</td>\n",
       "      <td>1965</td>\n",
       "      <td>1973.0</td>\n",
       "      <td>336</td>\n",
       "      <td>2010</td>\n",
       "      <td>138500</td>\n",
       "    </tr>\n",
       "  </tbody>\n",
       "</table>\n",
       "<p>699 rows × 8 columns</p>\n",
       "</div>"
      ],
      "text/plain": [
       "      Id  MSSubClass  LotArea  YearBuilt  GarageYrBlt  GarageArea  YrSold  \\\n",
       "0      1          60     8450       2003       2003.0         548    2008   \n",
       "1      2          20     9600       1976       1976.0         460    2007   \n",
       "2      3          60    11250       2001       2001.0         608    2008   \n",
       "3      4          70     9550       1915       1998.0         642    2006   \n",
       "4      5          60    14260       2000       2000.0         836    2008   \n",
       "..   ...         ...      ...        ...          ...         ...     ...   \n",
       "694  695          50     6120       1936       1995.0         576    2009   \n",
       "695  696          20    13811       1987       1987.0         551    2006   \n",
       "696  697          30     6000       1921       1921.0         205    2006   \n",
       "697  698          20     6420       1952       1952.0         308    2006   \n",
       "698  699          20     8450       1965       1973.0         336    2010   \n",
       "\n",
       "     SalePrice  \n",
       "0       208500  \n",
       "1       181500  \n",
       "2       223500  \n",
       "3       140000  \n",
       "4       250000  \n",
       "..         ...  \n",
       "694     141500  \n",
       "695     176000  \n",
       "696      89000  \n",
       "697     123500  \n",
       "698     138500  \n",
       "\n",
       "[699 rows x 8 columns]"
      ]
     },
     "execution_count": 2,
     "metadata": {},
     "output_type": "execute_result"
    }
   ],
   "source": [
    "train=pd.read_csv(r\"I:\\ML Projects\\F1 Project\\project 1 copy\\train copy.csv\")\n",
    "train.head(1)\n",
    "train.columns\n",
    "train[train.columns]\n"
   ]
  },
  {
   "cell_type": "code",
   "execution_count": 3,
   "id": "8cc97199",
   "metadata": {
    "collapsed": true
   },
   "outputs": [
    {
     "data": {
      "text/plain": [
       "<bound method NDFrame.describe of       Id  MSSubClass  LotArea  YearBuilt  GarageYrBlt  GarageArea  YrSold  \\\n",
       "0      1          60     8450       2003       2003.0         548    2008   \n",
       "1      2          20     9600       1976       1976.0         460    2007   \n",
       "2      3          60    11250       2001       2001.0         608    2008   \n",
       "3      4          70     9550       1915       1998.0         642    2006   \n",
       "4      5          60    14260       2000       2000.0         836    2008   \n",
       "..   ...         ...      ...        ...          ...         ...     ...   \n",
       "694  695          50     6120       1936       1995.0         576    2009   \n",
       "695  696          20    13811       1987       1987.0         551    2006   \n",
       "696  697          30     6000       1921       1921.0         205    2006   \n",
       "697  698          20     6420       1952       1952.0         308    2006   \n",
       "698  699          20     8450       1965       1973.0         336    2010   \n",
       "\n",
       "     SalePrice  \n",
       "0       208500  \n",
       "1       181500  \n",
       "2       223500  \n",
       "3       140000  \n",
       "4       250000  \n",
       "..         ...  \n",
       "694     141500  \n",
       "695     176000  \n",
       "696      89000  \n",
       "697     123500  \n",
       "698     138500  \n",
       "\n",
       "[699 rows x 8 columns]>"
      ]
     },
     "execution_count": 3,
     "metadata": {},
     "output_type": "execute_result"
    }
   ],
   "source": [
    "train.describe"
   ]
  },
  {
   "cell_type": "code",
   "execution_count": 4,
   "id": "86fa6d05",
   "metadata": {
    "collapsed": true
   },
   "outputs": [
    {
     "data": {
      "text/plain": [
       "<bound method DataFrame.info of       Id  MSSubClass  LotArea  YearBuilt  GarageYrBlt  GarageArea  YrSold  \\\n",
       "0      1          60     8450       2003       2003.0         548    2008   \n",
       "1      2          20     9600       1976       1976.0         460    2007   \n",
       "2      3          60    11250       2001       2001.0         608    2008   \n",
       "3      4          70     9550       1915       1998.0         642    2006   \n",
       "4      5          60    14260       2000       2000.0         836    2008   \n",
       "..   ...         ...      ...        ...          ...         ...     ...   \n",
       "694  695          50     6120       1936       1995.0         576    2009   \n",
       "695  696          20    13811       1987       1987.0         551    2006   \n",
       "696  697          30     6000       1921       1921.0         205    2006   \n",
       "697  698          20     6420       1952       1952.0         308    2006   \n",
       "698  699          20     8450       1965       1973.0         336    2010   \n",
       "\n",
       "     SalePrice  \n",
       "0       208500  \n",
       "1       181500  \n",
       "2       223500  \n",
       "3       140000  \n",
       "4       250000  \n",
       "..         ...  \n",
       "694     141500  \n",
       "695     176000  \n",
       "696      89000  \n",
       "697     123500  \n",
       "698     138500  \n",
       "\n",
       "[699 rows x 8 columns]>"
      ]
     },
     "execution_count": 4,
     "metadata": {},
     "output_type": "execute_result"
    }
   ],
   "source": [
    "train.info\n"
   ]
  },
  {
   "cell_type": "markdown",
   "id": "8169c33d",
   "metadata": {},
   "source": [
    "                                        Cure Null Values "
   ]
  },
  {
   "cell_type": "code",
   "execution_count": 5,
   "id": "fe500f36",
   "metadata": {
    "collapsed": true
   },
   "outputs": [
    {
     "data": {
      "text/plain": [
       "Id             False\n",
       "MSSubClass     False\n",
       "LotArea        False\n",
       "YearBuilt      False\n",
       "GarageYrBlt     True\n",
       "GarageArea     False\n",
       "YrSold         False\n",
       "SalePrice      False\n",
       "dtype: bool"
      ]
     },
     "execution_count": 5,
     "metadata": {},
     "output_type": "execute_result"
    }
   ],
   "source": [
    "train.isna().any()"
   ]
  },
  {
   "cell_type": "code",
   "execution_count": 6,
   "id": "ae3a9bf5",
   "metadata": {
    "collapsed": true
   },
   "outputs": [
    {
     "data": {
      "text/html": [
       "<div>\n",
       "<style scoped>\n",
       "    .dataframe tbody tr th:only-of-type {\n",
       "        vertical-align: middle;\n",
       "    }\n",
       "\n",
       "    .dataframe tbody tr th {\n",
       "        vertical-align: top;\n",
       "    }\n",
       "\n",
       "    .dataframe thead th {\n",
       "        text-align: right;\n",
       "    }\n",
       "</style>\n",
       "<table border=\"1\" class=\"dataframe\">\n",
       "  <thead>\n",
       "    <tr style=\"text-align: right;\">\n",
       "      <th></th>\n",
       "      <th>Id</th>\n",
       "      <th>MSSubClass</th>\n",
       "      <th>LotArea</th>\n",
       "      <th>YearBuilt</th>\n",
       "      <th>GarageYrBlt</th>\n",
       "      <th>GarageArea</th>\n",
       "      <th>YrSold</th>\n",
       "      <th>SalePrice</th>\n",
       "    </tr>\n",
       "  </thead>\n",
       "  <tbody>\n",
       "    <tr>\n",
       "      <th>0</th>\n",
       "      <td>1.0</td>\n",
       "      <td>60.0</td>\n",
       "      <td>8450.0</td>\n",
       "      <td>2003.0</td>\n",
       "      <td>2003.0</td>\n",
       "      <td>548.0</td>\n",
       "      <td>2008.0</td>\n",
       "      <td>208500.0</td>\n",
       "    </tr>\n",
       "    <tr>\n",
       "      <th>1</th>\n",
       "      <td>2.0</td>\n",
       "      <td>20.0</td>\n",
       "      <td>9600.0</td>\n",
       "      <td>1976.0</td>\n",
       "      <td>1976.0</td>\n",
       "      <td>460.0</td>\n",
       "      <td>2007.0</td>\n",
       "      <td>181500.0</td>\n",
       "    </tr>\n",
       "    <tr>\n",
       "      <th>2</th>\n",
       "      <td>3.0</td>\n",
       "      <td>60.0</td>\n",
       "      <td>11250.0</td>\n",
       "      <td>2001.0</td>\n",
       "      <td>2001.0</td>\n",
       "      <td>608.0</td>\n",
       "      <td>2008.0</td>\n",
       "      <td>223500.0</td>\n",
       "    </tr>\n",
       "    <tr>\n",
       "      <th>3</th>\n",
       "      <td>4.0</td>\n",
       "      <td>70.0</td>\n",
       "      <td>9550.0</td>\n",
       "      <td>1915.0</td>\n",
       "      <td>1998.0</td>\n",
       "      <td>642.0</td>\n",
       "      <td>2006.0</td>\n",
       "      <td>140000.0</td>\n",
       "    </tr>\n",
       "    <tr>\n",
       "      <th>4</th>\n",
       "      <td>5.0</td>\n",
       "      <td>60.0</td>\n",
       "      <td>14260.0</td>\n",
       "      <td>2000.0</td>\n",
       "      <td>2000.0</td>\n",
       "      <td>836.0</td>\n",
       "      <td>2008.0</td>\n",
       "      <td>250000.0</td>\n",
       "    </tr>\n",
       "    <tr>\n",
       "      <th>...</th>\n",
       "      <td>...</td>\n",
       "      <td>...</td>\n",
       "      <td>...</td>\n",
       "      <td>...</td>\n",
       "      <td>...</td>\n",
       "      <td>...</td>\n",
       "      <td>...</td>\n",
       "      <td>...</td>\n",
       "    </tr>\n",
       "    <tr>\n",
       "      <th>694</th>\n",
       "      <td>695.0</td>\n",
       "      <td>50.0</td>\n",
       "      <td>6120.0</td>\n",
       "      <td>1936.0</td>\n",
       "      <td>1995.0</td>\n",
       "      <td>576.0</td>\n",
       "      <td>2009.0</td>\n",
       "      <td>141500.0</td>\n",
       "    </tr>\n",
       "    <tr>\n",
       "      <th>695</th>\n",
       "      <td>696.0</td>\n",
       "      <td>20.0</td>\n",
       "      <td>13811.0</td>\n",
       "      <td>1987.0</td>\n",
       "      <td>1987.0</td>\n",
       "      <td>551.0</td>\n",
       "      <td>2006.0</td>\n",
       "      <td>176000.0</td>\n",
       "    </tr>\n",
       "    <tr>\n",
       "      <th>696</th>\n",
       "      <td>697.0</td>\n",
       "      <td>30.0</td>\n",
       "      <td>6000.0</td>\n",
       "      <td>1921.0</td>\n",
       "      <td>1921.0</td>\n",
       "      <td>205.0</td>\n",
       "      <td>2006.0</td>\n",
       "      <td>89000.0</td>\n",
       "    </tr>\n",
       "    <tr>\n",
       "      <th>697</th>\n",
       "      <td>698.0</td>\n",
       "      <td>20.0</td>\n",
       "      <td>6420.0</td>\n",
       "      <td>1952.0</td>\n",
       "      <td>1952.0</td>\n",
       "      <td>308.0</td>\n",
       "      <td>2006.0</td>\n",
       "      <td>123500.0</td>\n",
       "    </tr>\n",
       "    <tr>\n",
       "      <th>698</th>\n",
       "      <td>699.0</td>\n",
       "      <td>20.0</td>\n",
       "      <td>8450.0</td>\n",
       "      <td>1965.0</td>\n",
       "      <td>1973.0</td>\n",
       "      <td>336.0</td>\n",
       "      <td>2010.0</td>\n",
       "      <td>138500.0</td>\n",
       "    </tr>\n",
       "  </tbody>\n",
       "</table>\n",
       "<p>699 rows × 8 columns</p>\n",
       "</div>"
      ],
      "text/plain": [
       "        Id  MSSubClass  LotArea  YearBuilt  GarageYrBlt  GarageArea  YrSold  \\\n",
       "0      1.0        60.0   8450.0     2003.0       2003.0       548.0  2008.0   \n",
       "1      2.0        20.0   9600.0     1976.0       1976.0       460.0  2007.0   \n",
       "2      3.0        60.0  11250.0     2001.0       2001.0       608.0  2008.0   \n",
       "3      4.0        70.0   9550.0     1915.0       1998.0       642.0  2006.0   \n",
       "4      5.0        60.0  14260.0     2000.0       2000.0       836.0  2008.0   \n",
       "..     ...         ...      ...        ...          ...         ...     ...   \n",
       "694  695.0        50.0   6120.0     1936.0       1995.0       576.0  2009.0   \n",
       "695  696.0        20.0  13811.0     1987.0       1987.0       551.0  2006.0   \n",
       "696  697.0        30.0   6000.0     1921.0       1921.0       205.0  2006.0   \n",
       "697  698.0        20.0   6420.0     1952.0       1952.0       308.0  2006.0   \n",
       "698  699.0        20.0   8450.0     1965.0       1973.0       336.0  2010.0   \n",
       "\n",
       "     SalePrice  \n",
       "0     208500.0  \n",
       "1     181500.0  \n",
       "2     223500.0  \n",
       "3     140000.0  \n",
       "4     250000.0  \n",
       "..         ...  \n",
       "694   141500.0  \n",
       "695   176000.0  \n",
       "696    89000.0  \n",
       "697   123500.0  \n",
       "698   138500.0  \n",
       "\n",
       "[699 rows x 8 columns]"
      ]
     },
     "execution_count": 6,
     "metadata": {},
     "output_type": "execute_result"
    }
   ],
   "source": [
    "from sklearn.impute import SimpleImputer\n",
    "imputer=SimpleImputer(missing_values=np.nan,strategy=\"mean\")\n",
    "imputer=imputer.fit(train)\n",
    "imputed=imputer.transform(train.values)\n",
    "train=pd.DataFrame(data=imputed,columns=train.columns)\n",
    "train"
   ]
  },
  {
   "cell_type": "code",
   "execution_count": 7,
   "id": "5c97c13f",
   "metadata": {
    "collapsed": true
   },
   "outputs": [
    {
     "data": {
      "text/plain": [
       "Id             False\n",
       "MSSubClass     False\n",
       "LotArea        False\n",
       "YearBuilt      False\n",
       "GarageYrBlt    False\n",
       "GarageArea     False\n",
       "YrSold         False\n",
       "SalePrice      False\n",
       "dtype: bool"
      ]
     },
     "execution_count": 7,
     "metadata": {},
     "output_type": "execute_result"
    }
   ],
   "source": [
    "train.isna().any()"
   ]
  },
  {
   "cell_type": "markdown",
   "id": "d49a07bc",
   "metadata": {},
   "source": [
    "                                         Cure Outlier values"
   ]
  },
  {
   "cell_type": "code",
   "execution_count": 8,
   "id": "fd12c1e6",
   "metadata": {
    "collapsed": true
   },
   "outputs": [
    {
     "name": "stderr",
     "output_type": "stream",
     "text": [
      "E:\\ANACONDA\\lib\\site-packages\\seaborn\\_decorators.py:36: FutureWarning: Pass the following variable as a keyword arg: x. From version 0.12, the only valid positional argument will be `data`, and passing other arguments without an explicit keyword will result in an error or misinterpretation.\n",
      "  warnings.warn(\n"
     ]
    },
    {
     "data": {
      "text/plain": [
       "<AxesSubplot:>"
      ]
     },
     "execution_count": 8,
     "metadata": {},
     "output_type": "execute_result"
    },
    {
     "data": {
      "image/png": "[encoded data removed]",
      "text/plain": [
       "<Figure size 432x288 with 1 Axes>"
      ]
     },
     "metadata": {
      "needs_background": "light"
     },
     "output_type": "display_data"
    }
   ],
   "source": [
    "sns.boxplot(train.values)"
   ]
  },
  {
   "cell_type": "code",
   "execution_count": 9,
   "id": "f281f1e2",
   "metadata": {
    "collapsed": true
   },
   "outputs": [
    {
     "data": {
      "text/html": [
       "<div>\n",
       "<style scoped>\n",
       "    .dataframe tbody tr th:only-of-type {\n",
       "        vertical-align: middle;\n",
       "    }\n",
       "\n",
       "    .dataframe tbody tr th {\n",
       "        vertical-align: top;\n",
       "    }\n",
       "\n",
       "    .dataframe thead th {\n",
       "        text-align: right;\n",
       "    }\n",
       "</style>\n",
       "<table border=\"1\" class=\"dataframe\">\n",
       "  <thead>\n",
       "    <tr style=\"text-align: right;\">\n",
       "      <th></th>\n",
       "      <th>Id</th>\n",
       "      <th>MSSubClass</th>\n",
       "      <th>LotArea</th>\n",
       "      <th>YearBuilt</th>\n",
       "      <th>GarageYrBlt</th>\n",
       "      <th>GarageArea</th>\n",
       "      <th>YrSold</th>\n",
       "      <th>SalePrice</th>\n",
       "    </tr>\n",
       "  </thead>\n",
       "  <tbody>\n",
       "    <tr>\n",
       "      <th>0</th>\n",
       "      <td>1.0</td>\n",
       "      <td>60.0</td>\n",
       "      <td>8450.0</td>\n",
       "      <td>2003.0</td>\n",
       "      <td>2003.0</td>\n",
       "      <td>548.0</td>\n",
       "      <td>2008.0</td>\n",
       "      <td>208500.0</td>\n",
       "    </tr>\n",
       "    <tr>\n",
       "      <th>0</th>\n",
       "      <td>1.0</td>\n",
       "      <td>60.0</td>\n",
       "      <td>8450.0</td>\n",
       "      <td>2003.0</td>\n",
       "      <td>2003.0</td>\n",
       "      <td>548.0</td>\n",
       "      <td>2008.0</td>\n",
       "      <td>208500.0</td>\n",
       "    </tr>\n",
       "    <tr>\n",
       "      <th>0</th>\n",
       "      <td>1.0</td>\n",
       "      <td>60.0</td>\n",
       "      <td>8450.0</td>\n",
       "      <td>2003.0</td>\n",
       "      <td>2003.0</td>\n",
       "      <td>548.0</td>\n",
       "      <td>2008.0</td>\n",
       "      <td>208500.0</td>\n",
       "    </tr>\n",
       "    <tr>\n",
       "      <th>0</th>\n",
       "      <td>1.0</td>\n",
       "      <td>60.0</td>\n",
       "      <td>8450.0</td>\n",
       "      <td>2003.0</td>\n",
       "      <td>2003.0</td>\n",
       "      <td>548.0</td>\n",
       "      <td>2008.0</td>\n",
       "      <td>208500.0</td>\n",
       "    </tr>\n",
       "    <tr>\n",
       "      <th>0</th>\n",
       "      <td>1.0</td>\n",
       "      <td>60.0</td>\n",
       "      <td>8450.0</td>\n",
       "      <td>2003.0</td>\n",
       "      <td>2003.0</td>\n",
       "      <td>548.0</td>\n",
       "      <td>2008.0</td>\n",
       "      <td>208500.0</td>\n",
       "    </tr>\n",
       "    <tr>\n",
       "      <th>...</th>\n",
       "      <td>...</td>\n",
       "      <td>...</td>\n",
       "      <td>...</td>\n",
       "      <td>...</td>\n",
       "      <td>...</td>\n",
       "      <td>...</td>\n",
       "      <td>...</td>\n",
       "      <td>...</td>\n",
       "    </tr>\n",
       "    <tr>\n",
       "      <th>698</th>\n",
       "      <td>699.0</td>\n",
       "      <td>20.0</td>\n",
       "      <td>8450.0</td>\n",
       "      <td>1965.0</td>\n",
       "      <td>1973.0</td>\n",
       "      <td>336.0</td>\n",
       "      <td>2010.0</td>\n",
       "      <td>138500.0</td>\n",
       "    </tr>\n",
       "    <tr>\n",
       "      <th>698</th>\n",
       "      <td>699.0</td>\n",
       "      <td>20.0</td>\n",
       "      <td>8450.0</td>\n",
       "      <td>1965.0</td>\n",
       "      <td>1973.0</td>\n",
       "      <td>336.0</td>\n",
       "      <td>2010.0</td>\n",
       "      <td>138500.0</td>\n",
       "    </tr>\n",
       "    <tr>\n",
       "      <th>698</th>\n",
       "      <td>699.0</td>\n",
       "      <td>20.0</td>\n",
       "      <td>8450.0</td>\n",
       "      <td>1965.0</td>\n",
       "      <td>1973.0</td>\n",
       "      <td>336.0</td>\n",
       "      <td>2010.0</td>\n",
       "      <td>138500.0</td>\n",
       "    </tr>\n",
       "    <tr>\n",
       "      <th>698</th>\n",
       "      <td>699.0</td>\n",
       "      <td>20.0</td>\n",
       "      <td>8450.0</td>\n",
       "      <td>1965.0</td>\n",
       "      <td>1973.0</td>\n",
       "      <td>336.0</td>\n",
       "      <td>2010.0</td>\n",
       "      <td>138500.0</td>\n",
       "    </tr>\n",
       "    <tr>\n",
       "      <th>698</th>\n",
       "      <td>699.0</td>\n",
       "      <td>20.0</td>\n",
       "      <td>8450.0</td>\n",
       "      <td>1965.0</td>\n",
       "      <td>1973.0</td>\n",
       "      <td>336.0</td>\n",
       "      <td>2010.0</td>\n",
       "      <td>138500.0</td>\n",
       "    </tr>\n",
       "  </tbody>\n",
       "</table>\n",
       "<p>5591 rows × 8 columns</p>\n",
       "</div>"
      ],
      "text/plain": [
       "        Id  MSSubClass  LotArea  YearBuilt  GarageYrBlt  GarageArea  YrSold  \\\n",
       "0      1.0        60.0   8450.0     2003.0       2003.0       548.0  2008.0   \n",
       "0      1.0        60.0   8450.0     2003.0       2003.0       548.0  2008.0   \n",
       "0      1.0        60.0   8450.0     2003.0       2003.0       548.0  2008.0   \n",
       "0      1.0        60.0   8450.0     2003.0       2003.0       548.0  2008.0   \n",
       "0      1.0        60.0   8450.0     2003.0       2003.0       548.0  2008.0   \n",
       "..     ...         ...      ...        ...          ...         ...     ...   \n",
       "698  699.0        20.0   8450.0     1965.0       1973.0       336.0  2010.0   \n",
       "698  699.0        20.0   8450.0     1965.0       1973.0       336.0  2010.0   \n",
       "698  699.0        20.0   8450.0     1965.0       1973.0       336.0  2010.0   \n",
       "698  699.0        20.0   8450.0     1965.0       1973.0       336.0  2010.0   \n",
       "698  699.0        20.0   8450.0     1965.0       1973.0       336.0  2010.0   \n",
       "\n",
       "     SalePrice  \n",
       "0     208500.0  \n",
       "0     208500.0  \n",
       "0     208500.0  \n",
       "0     208500.0  \n",
       "0     208500.0  \n",
       "..         ...  \n",
       "698   138500.0  \n",
       "698   138500.0  \n",
       "698   138500.0  \n",
       "698   138500.0  \n",
       "698   138500.0  \n",
       "\n",
       "[5591 rows x 8 columns]"
      ]
     },
     "execution_count": 9,
     "metadata": {},
     "output_type": "execute_result"
    }
   ],
   "source": [
    "filter=train.values<580000\n",
    "cure=train[filter]\n",
    "cure"
   ]
  },
  {
   "cell_type": "markdown",
   "id": "988db8ac",
   "metadata": {},
   "source": [
    "## Build Model"
   ]
  },
  {
   "cell_type": "markdown",
   "id": "6765ebf9",
   "metadata": {},
   "source": [
    "                                         Split data"
   ]
  },
  {
   "cell_type": "code",
   "execution_count": 10,
   "id": "3e11632e",
   "metadata": {
    "collapsed": true
   },
   "outputs": [
    {
     "data": {
      "text/plain": [
       "0      208500.0\n",
       "1      181500.0\n",
       "2      223500.0\n",
       "3      140000.0\n",
       "4      250000.0\n",
       "         ...   \n",
       "694    141500.0\n",
       "695    176000.0\n",
       "696     89000.0\n",
       "697    123500.0\n",
       "698    138500.0\n",
       "Name: SalePrice, Length: 699, dtype: float64"
      ]
     },
     "execution_count": 10,
     "metadata": {},
     "output_type": "execute_result"
    }
   ],
   "source": [
    "otput=train.pop('SalePrice')\n",
    "otput"
   ]
  },
  {
   "cell_type": "code",
   "execution_count": 11,
   "id": "ea0f9dd7",
   "metadata": {},
   "outputs": [],
   "source": [
    "from sklearn.model_selection import train_test_split\n",
    "X_train,X_test,Y_train,Y_test=train_test_split(train,otput,test_size=0.4,random_state=42)"
   ]
  },
  {
   "cell_type": "markdown",
   "id": "eda86241",
   "metadata": {},
   "source": [
    "                                         Fit data"
   ]
  },
  {
   "cell_type": "code",
   "execution_count": 12,
   "id": "084c1d33",
   "metadata": {
    "collapsed": true
   },
   "outputs": [
    {
     "data": {
      "text/plain": [
       "LinearRegression()"
      ]
     },
     "execution_count": 12,
     "metadata": {},
     "output_type": "execute_result"
    }
   ],
   "source": [
    "from sklearn.linear_model import LinearRegression\n",
    "linear=LinearRegression()\n",
    "linear.fit(X_train,Y_train)\n",
    "\n",
    "\n"
   ]
  },
  {
   "cell_type": "markdown",
   "id": "f1b7ffe4",
   "metadata": {},
   "source": [
    "                                         Evaluation"
   ]
  },
  {
   "cell_type": "code",
   "execution_count": 13,
   "id": "8b970fd5",
   "metadata": {},
   "outputs": [
    {
     "name": "stdout",
     "output_type": "stream",
     "text": [
      "3158868.0250261202\n"
     ]
    }
   ],
   "source": [
    "print(linear.intercept_)"
   ]
  },
  {
   "cell_type": "code",
   "execution_count": 14,
   "id": "c8b9954e",
   "metadata": {
    "collapsed": true
   },
   "outputs": [
    {
     "data": {
      "text/html": [
       "<div>\n",
       "<style scoped>\n",
       "    .dataframe tbody tr th:only-of-type {\n",
       "        vertical-align: middle;\n",
       "    }\n",
       "\n",
       "    .dataframe tbody tr th {\n",
       "        vertical-align: top;\n",
       "    }\n",
       "\n",
       "    .dataframe thead th {\n",
       "        text-align: right;\n",
       "    }\n",
       "</style>\n",
       "<table border=\"1\" class=\"dataframe\">\n",
       "  <thead>\n",
       "    <tr style=\"text-align: right;\">\n",
       "      <th></th>\n",
       "      <th>coefficient</th>\n",
       "    </tr>\n",
       "  </thead>\n",
       "  <tbody>\n",
       "    <tr>\n",
       "      <th>Id</th>\n",
       "      <td>7.660637</td>\n",
       "    </tr>\n",
       "    <tr>\n",
       "      <th>MSSubClass</th>\n",
       "      <td>-36.647646</td>\n",
       "    </tr>\n",
       "    <tr>\n",
       "      <th>LotArea</th>\n",
       "      <td>1.446117</td>\n",
       "    </tr>\n",
       "    <tr>\n",
       "      <th>YearBuilt</th>\n",
       "      <td>566.298907</td>\n",
       "    </tr>\n",
       "    <tr>\n",
       "      <th>GarageYrBlt</th>\n",
       "      <td>365.883912</td>\n",
       "    </tr>\n",
       "    <tr>\n",
       "      <th>GarageArea</th>\n",
       "      <td>187.019776</td>\n",
       "    </tr>\n",
       "    <tr>\n",
       "      <th>YrSold</th>\n",
       "      <td>-2450.193820</td>\n",
       "    </tr>\n",
       "  </tbody>\n",
       "</table>\n",
       "</div>"
      ],
      "text/plain": [
       "             coefficient\n",
       "Id              7.660637\n",
       "MSSubClass    -36.647646\n",
       "LotArea         1.446117\n",
       "YearBuilt     566.298907\n",
       "GarageYrBlt   365.883912\n",
       "GarageArea    187.019776\n",
       "YrSold      -2450.193820"
      ]
     },
     "execution_count": 14,
     "metadata": {},
     "output_type": "execute_result"
    }
   ],
   "source": [
    "co=pd.DataFrame(linear.coef_,train.columns,columns=[\"coefficient\"])\n",
    "co"
   ]
  },
  {
   "cell_type": "markdown",
   "id": "aa852f44",
   "metadata": {},
   "source": [
    "                                          Predicrion"
   ]
  },
  {
   "cell_type": "code",
   "execution_count": 15,
   "id": "7ba31c37",
   "metadata": {
    "collapsed": true
   },
   "outputs": [
    {
     "data": {
      "text/plain": [
       "array([246043.0709375 , 136081.72153295, 204381.88145538,  65420.09076226,\n",
       "       290269.08168605, 241551.9706784 , 193452.01045173, 142753.35895533,\n",
       "       152583.82941218, 183520.31421412, 209508.92843698, 127052.23636417,\n",
       "       279280.82399597,  85084.60614589, 225476.09158226, 212018.25911721,\n",
       "       201288.01697852, 205207.18413987, 143813.25556395, 195207.25674666,\n",
       "       183640.10421003, 197837.96824947, 215475.94076603, 264452.22666065,\n",
       "       206542.52172671, 137778.91312561, 262344.09729886, 181089.06362815,\n",
       "       218075.45215744, 204237.53988718, 200016.59110296, 234853.82886912,\n",
       "       149696.02125876, 196119.7191967 ,  83768.54571217, 161180.04538226,\n",
       "       286353.03705311,  56980.02961794, 199863.46053033, 200633.59673081,\n",
       "       205605.96043293, 191812.80092823, 126611.93317134, 200456.75784909,\n",
       "        81857.15341051, 274743.56890387, 214123.70322893,  99657.99393691,\n",
       "       127267.78585139, 108732.96231114, 145095.40420015, 150460.23544633,\n",
       "       113029.9260935 , 157981.49571274, 152537.07848704,  62627.89866371,\n",
       "       142146.52871825, 223960.74581603, 244388.0727949 , 221321.8030263 ,\n",
       "       134100.43015273, 198068.38500489, 206412.42892422, 110908.08293756,\n",
       "       147860.42905026, 214259.06893562, 208722.47178165, 191819.56846704,\n",
       "       189747.98301057, 100984.8448988 , 201749.24257198, 231977.62193557,\n",
       "       132450.34855083, 184761.48759742, 305658.40700209, 182787.11924891,\n",
       "       221493.78985252, 226645.69145293, 209256.54988034, 110431.62317891,\n",
       "       101438.67967019, 191860.66363243, 238141.89495653, 200365.45091456,\n",
       "       190221.67441874, 141479.11809458, 238966.74121203, 191464.89780741,\n",
       "        85388.9330807 , 210327.62682634, 115787.09333245, 123698.27291006,\n",
       "       137132.47567707, 163733.61827847, 196579.83379723, 298393.21145352,\n",
       "       274871.04118275, 369309.0827692 , 176750.10723984,  70158.54451002,\n",
       "       192180.74762691,  84716.54308223, 250137.31813322, 117506.48116716,\n",
       "       280940.70134005, 283044.23821804, 157036.00372566, 216721.90819765,\n",
       "       238202.45679827,  75472.64020083, 139457.9139137 , 191574.8923437 ,\n",
       "       242271.2937475 , 185278.23843149, 226052.84507314, 132101.95048035,\n",
       "       184933.27563109, 236501.38072637, 231515.41797831, 181843.04538194,\n",
       "       187260.33068766, 163850.91070646, 199589.69357714, 223645.55612299,\n",
       "       106362.31491185, 195955.42294869, 359465.63628236, 294486.87235891,\n",
       "       128939.87478019, 149112.66760204,  63088.01126579, 192817.80879139,\n",
       "       188029.60312168, 133311.17588735,  91733.34374925, 130392.8210143 ,\n",
       "       149478.33737755,  59464.51680615, 232552.66094132, 138838.09370455,\n",
       "       266192.69574258, 171617.05898238, 253936.94865056, 194003.74609626,\n",
       "       220118.95938919, 288140.52526207, 295823.13497801, 167057.66399975,\n",
       "       123958.15741096, 233913.76996348,  64895.20129004, 268279.33956749,\n",
       "       125451.98162988, 150720.81085187,  98608.42631842, 232100.5634824 ,\n",
       "       240316.40811555,  85794.32200243, 126510.55548213, 255527.53194864,\n",
       "       226037.20817457,  70787.10967339,  75859.22946603, 132094.19690343,\n",
       "        96586.47086101, 147096.38385223, 149349.0433045 , 146376.13623145,\n",
       "       198971.44596936, 239491.98106166, 175573.79590106, 214544.12489671,\n",
       "       269089.1151826 , 259102.31287159, 122275.23732037,  80307.29273004,\n",
       "       169528.53916861, 220718.17833332, 279857.44505053,  95324.64712233,\n",
       "       156547.53284367, 309798.17662815, 103767.43954598,  96901.17523667,\n",
       "       140232.85125467, 266316.46038505, 124707.26819431, 126877.51584279,\n",
       "       179018.9304832 , 105892.47623335,  68469.50867851,  93417.18965045,\n",
       "       149051.40354774, 244502.30657235, 123420.70794958,  60734.79225883,\n",
       "        89421.77700663, 150811.59263387, 151182.15553811, 194595.24020078,\n",
       "       174493.63322687, 274140.56862595,  61361.99358588, 256902.22048758,\n",
       "       206660.03380281, 265588.90083703, 177161.86069895, 219894.08515939,\n",
       "       352516.6856513 ,  77671.87193387, 186521.91166702, 163220.60853926,\n",
       "        48877.02378505, 257207.85734927, 172609.81256422, 128428.04003205,\n",
       "       203715.77672444, 172515.26111919, 248971.23637305, 110133.16695002,\n",
       "        61553.50324123, 131520.64768053, 133553.95890596, 192192.12903945,\n",
       "       177241.54457939, 233318.72464333, 122716.44861402, 186736.25432294,\n",
       "        74117.1641763 , 154074.43821976, 101759.23171907, 254349.09695757,\n",
       "       120431.20168138, 187280.00435197, 158509.36778831, 202643.21906846,\n",
       "       243809.99750991,  88564.11937339, 218508.71528796, 178104.57282943,\n",
       "       186765.43461411, 186683.38782275, 214671.39416797, 203096.68883856,\n",
       "       180995.99856058, 403280.10461357, 167132.84117572, 110291.94713234,\n",
       "        62097.1004628 , 189104.4319681 , 273610.3233765 , 206956.69424702,\n",
       "       144022.01866204, 201283.02111074, 116940.47257577, 201912.27477203,\n",
       "       150565.61394925, 212044.72447018,  64862.96138053, 168987.43358077,\n",
       "        69150.71555636, 204245.44710941, 191405.6817505 , 127463.85315619,\n",
       "       285394.64914238,  94311.24483886, 167952.54823526, 188263.30545344,\n",
       "       208229.99108153,  55725.8317426 , 218583.76150869, 204587.21087301,\n",
       "        67111.22656977, 138038.92427831, 283696.85312568, 218556.35179726,\n",
       "       289946.4593548 , 220156.52752333,  77306.63394192, 134934.46304965])"
      ]
     },
     "execution_count": 15,
     "metadata": {},
     "output_type": "execute_result"
    }
   ],
   "source": [
    "predictions=linear.predict(X_test)\n",
    "predictions"
   ]
  },
  {
   "cell_type": "markdown",
   "id": "ffcee42c",
   "metadata": {},
   "source": [
    "                                          Visualization"
   ]
  },
  {
   "cell_type": "code",
   "execution_count": 16,
   "id": "1fc0fec4",
   "metadata": {
    "collapsed": true
   },
   "outputs": [
    {
     "data": {
      "image/png": "[encoded data removed]",
      "text/plain": [
       "<Figure size 432x288 with 1 Axes>"
      ]
     },
     "metadata": {
      "needs_background": "light"
     },
     "output_type": "display_data"
    }
   ],
   "source": [
    "scatter=plt.scatter(Y_test,predictions)"
   ]
  },
  {
   "cell_type": "code",
   "execution_count": 17,
   "id": "728a7ffb",
   "metadata": {
    "collapsed": true
   },
   "outputs": [
    {
     "name": "stderr",
     "output_type": "stream",
     "text": [
      "E:\\ANACONDA\\lib\\site-packages\\seaborn\\distributions.py:2619: FutureWarning: `distplot` is a deprecated function and will be removed in a future version. Please adapt your code to use either `displot` (a figure-level function with similar flexibility) or `histplot` (an axes-level function for histograms).\n",
      "  warnings.warn(msg, FutureWarning)\n"
     ]
    },
    {
     "data": {
      "image/png": "[encoded data removed]",
      "text/plain": [
       "<Figure size 432x288 with 1 Axes>"
      ]
     },
     "metadata": {
      "needs_background": "light"
     },
     "output_type": "display_data"
    }
   ],
   "source": [
    "sns.distplot((Y_test,predictions),bins=50); "
   ]
  },
  {
   "cell_type": "markdown",
   "id": "f84db94a",
   "metadata": {},
   "source": [
    "                                         Error Estimation"
   ]
  },
  {
   "cell_type": "code",
   "execution_count": 18,
   "id": "698969dd",
   "metadata": {},
   "outputs": [],
   "source": [
    "from sklearn import metrics\n"
   ]
  },
  {
   "cell_type": "code",
   "execution_count": 19,
   "id": "75e7e33a",
   "metadata": {},
   "outputs": [
    {
     "name": "stdout",
     "output_type": "stream",
     "text": [
      "MAE: 39597.54344491795\n",
      "MSE: 3388040503.0850725\n",
      "RMSE: 58206.876767999434\n",
      "R2 score = 0.51\n"
     ]
    }
   ],
   "source": [
    "print('MAE:', metrics.mean_absolute_error(Y_test, predictions)) \n",
    "print('MSE:', metrics.mean_squared_error(Y_test, predictions)) \n",
    "print('RMSE:', np.sqrt(metrics.mean_squared_error(Y_test, predictions))) \n",
    "print(\"R2 score =\", round(metrics.r2_score(Y_test, predictions), 2))"
   ]
  },
  {
   "cell_type": "code",
   "execution_count": null,
   "id": "a15768a8",
   "metadata": {},
   "outputs": [],
   "source": []
  },
  {
   "cell_type": "markdown",
   "id": "b9b59f99",
   "metadata": {},
   "source": [
    "#                                   # Using another algoreithem"
   ]
  },
  {
   "cell_type": "code",
   "execution_count": null,
   "id": "f07ed848",
   "metadata": {},
   "outputs": [],
   "source": []
  },
  {
   "cell_type": "code",
   "execution_count": 20,
   "id": "28b10d45",
   "metadata": {
    "collapsed": true
   },
   "outputs": [
    {
     "data": {
      "text/plain": [
       "DecisionTreeRegressor()"
      ]
     },
     "execution_count": 20,
     "metadata": {},
     "output_type": "execute_result"
    }
   ],
   "source": [
    "from sklearn.tree import DecisionTreeRegressor\n",
    "dt = DecisionTreeRegressor()\n",
    "dt.fit(X_train,Y_train)\n"
   ]
  },
  {
   "cell_type": "code",
   "execution_count": 21,
   "id": "8a82c4e1",
   "metadata": {
    "collapsed": true
   },
   "outputs": [
    {
     "data": {
      "text/plain": [
       "array([269500., 130000., 138000.,  79500., 360000., 172500., 188500.,\n",
       "        81000., 177000., 175000., 108000., 315000., 305900., 120000.,\n",
       "       325000., 138000., 215000., 214000., 141000., 192000., 151000.,\n",
       "       260000., 345000., 415298., 235000., 139000., 412500., 155000.,\n",
       "       239000., 242000., 140000., 275000., 124900., 205000., 107000.,\n",
       "       140000., 270000., 161000., 242000., 109500., 239000., 173000.,\n",
       "       136000.,  82500.,  81000., 305000., 335000.,  82000., 190000.,\n",
       "       147000.,  82000., 159000.,  90350., 157000., 167000., 106250.,\n",
       "       140000., 316600., 230000., 201000., 139000., 242000., 181900.,\n",
       "       115000., 112000., 120500., 222000., 242000., 167000., 149000.,\n",
       "       245500., 280000., 112000., 164700., 184750., 207500., 220000.,\n",
       "       208900., 215000., 113000., 110500., 194500., 148000., 157500.,\n",
       "       180000., 118000., 275000., 204000., 188700., 325000., 139000.,\n",
       "        81000., 148000., 165150., 190000., 253293., 305900., 375000.,\n",
       "       168500., 108000., 142500., 105000., 172500., 112500., 276000.,\n",
       "       266000., 148000., 316600., 230000., 104000., 190000., 145000.,\n",
       "       213500., 118964., 148000., 100000., 120500., 263000., 129500.,\n",
       "       130000.,  94750., 110000., 231500., 430000., 108000., 163990.,\n",
       "       184750., 250000., 141000., 141000.,  81000., 140000., 192000.,\n",
       "       106500., 225000., 124900., 260000., 105000., 392000., 109000.,\n",
       "       315000., 155000., 230000., 176000., 240000., 267000., 249700.,\n",
       "       127500.,  94500., 275000., 100000., 134432., 113000., 130000.,\n",
       "       149000., 275000., 263000., 139400., 136000., 325000., 148000.,\n",
       "       128000., 105000., 100000.,  91300., 210000., 129900.,  97500.,\n",
       "       181000., 226000.,  98300., 148000., 267000., 438780.,  85000.,\n",
       "       115000., 159000., 200000., 270000., 110000., 185000., 184750.,\n",
       "       115000., 107000., 139000., 325000., 161000., 260000., 149900.,\n",
       "       128950.,  81000.,  87000., 158000., 228000., 113000.,  81000.,\n",
       "       119000., 141000., 128200., 128000., 167000., 383970., 105000.,\n",
       "       315000., 215000., 306000., 152000., 222500., 555000., 112500.,\n",
       "       147000., 140000., 113000., 383970., 260000., 130000., 187000.,\n",
       "       125000., 172500.,  82000.,  89500.,  97500., 147000., 128000.,\n",
       "       130000., 392000., 100000.,  89471., 225000., 315000., 161000.,\n",
       "       241500., 133000., 140000., 163000., 345000., 230000., 107000.,\n",
       "       214000., 130000., 180000., 119000., 240000., 188000., 175000.,\n",
       "       375000., 127500., 118000.,  81000., 164700., 383970., 111250.,\n",
       "       136000., 179000., 128000., 142500., 127500., 242000., 108000.,\n",
       "       128000.,  91300., 120500., 193500.,  86000., 279500., 115000.,\n",
       "       108000., 151000., 222500.,  81000., 173000., 219500., 100000.,\n",
       "       123500., 360000., 211000., 475000., 241500., 139000., 139000.])"
      ]
     },
     "execution_count": 21,
     "metadata": {},
     "output_type": "execute_result"
    }
   ],
   "source": [
    "tree_regressor = dt.predict(X_test)\n",
    "tree_regressor"
   ]
  },
  {
   "cell_type": "code",
   "execution_count": 22,
   "id": "61215794",
   "metadata": {
    "collapsed": true
   },
   "outputs": [
    {
     "data": {
      "image/png": "[encoded data removed]",
      "text/plain": [
       "<Figure size 432x288 with 1 Axes>"
      ]
     },
     "metadata": {
      "needs_background": "light"
     },
     "output_type": "display_data"
    }
   ],
   "source": [
    "scater=plt.scatter(Y_test,tree_regressor)"
   ]
  },
  {
   "cell_type": "code",
   "execution_count": 24,
   "id": "89b3b01f",
   "metadata": {
    "collapsed": true
   },
   "outputs": [
    {
     "name": "stdout",
     "output_type": "stream",
     "text": [
      "46990.74642857143\n",
      "69675.36632286191\n",
      "0.2912843175612294\n"
     ]
    }
   ],
   "source": [
    "\n",
    "print(metrics.mean_absolute_error(Y_test, tree_regressor))\n",
    "\n",
    "print(np.sqrt(metrics.mean_squared_error(Y_test, tree_regressor)))\n",
    "\n",
    "print(metrics.r2_score(Y_test, tree_regressor))"
   ]
  }
 ],
 "metadata": {
  "kernelspec": {
   "display_name": "Python 3 (ipykernel)",
   "language": "python",
   "name": "python3"
  },
  "language_info": {
   "codemirror_mode": {
    "name": "ipython",
    "version": 3
   },
   "file_extension": ".py",
   "mimetype": "text/x-python",
   "name": "python",
   "nbconvert_exporter": "python",
   "pygments_lexer": "ipython3",
   "version": "3.9.13"
  }
 },
 "nbformat": 4,
 "nbformat_minor": 5
}
